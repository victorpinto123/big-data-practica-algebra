{
 "cells": [
  {
   "cell_type": "markdown",
   "metadata": {},
   "source": [
    "# Práctica"
   ]
  },
  {
   "cell_type": "markdown",
   "metadata": {},
   "source": [
    "## 1. La conjetura de Collatz\n",
    "\n",
    "Escribir un procedimiento en Python que implemente el mecanismo de la conjetura de Collatz para cualquier número entero positivo."
   ]
  },
  {
   "cell_type": "code",
   "execution_count": 21,
   "metadata": {},
   "outputs": [
    {
     "data": {
      "text/plain": [
       "False"
      ]
     },
     "execution_count": 21,
     "metadata": {},
     "output_type": "execute_result"
    }
   ],
   "source": [
    "#Primero definimos una función para saber si el número es impar o par.\n",
    "def par(num):\n",
    "    return True if (num % 2) == 0 else False\n",
    "\n",
    "par(3)\n"
   ]
  },
  {
   "cell_type": "code",
   "execution_count": 22,
   "metadata": {},
   "outputs": [
    {
     "data": {
      "text/plain": [
       "True"
      ]
     },
     "execution_count": 22,
     "metadata": {},
     "output_type": "execute_result"
    }
   ],
   "source": [
    "par(2)"
   ]
  },
  {
   "cell_type": "code",
   "execution_count": 20,
   "metadata": {},
   "outputs": [
    {
     "data": {
      "text/plain": [
       "[2, 2, 3]"
      ]
     },
     "execution_count": 20,
     "metadata": {},
     "output_type": "execute_result"
    }
   ],
   "source": [
    "#Definimos una función que nos transforme todos los elementos de una lista en enteros (esto es para que no nos devuelva por ej el numero 2.0 sino que devuelva el 2. (Que sea mas bonito visualmente))\n",
    "def entero_lista(lista):\n",
    "    lista_enteros=[]\n",
    "    for i in lista:\n",
    "        i=int(i)\n",
    "        lista_enteros.append(i)\n",
    "    return lista_enteros\n",
    "\n",
    "entero_lista([2.0,2,3.0])"
   ]
  },
  {
   "cell_type": "code",
   "execution_count": 26,
   "metadata": {},
   "outputs": [
    {
     "data": {
      "text/plain": [
       "[7, 22, 11, 34, 17, 52, 26, 13, 40, 20, 10, 5, 16, 8, 4, 2, 1]"
      ]
     },
     "execution_count": 26,
     "metadata": {},
     "output_type": "execute_result"
    }
   ],
   "source": [
    "def ConjeturaCollatz(num):\n",
    "    numeros_Collatz=[]\n",
    "    numeros_Collatz.append(num)\n",
    "    while num/2 !=1:\n",
    "        if par(num):\n",
    "            num=num/2\n",
    "            numeros_Collatz.append(num)\n",
    "        else:\n",
    "            num=num*3+1\n",
    "            numeros_Collatz.append(num)\n",
    "    numeros_Collatz.append(1)\n",
    "    return entero_lista(numeros_Collatz)\n",
    "ConjeturaCollatz(7)"
   ]
  },
  {
   "cell_type": "markdown",
   "metadata": {},
   "source": [
    "## 2. Suma y producto escalar combinados\n",
    "\n",
    "Usando los procedimientos add y mult_vector_escalar definidos en el notebook **ALG05_Vectores**, calcular:   \n",
    "{$\\alpha$[1,2]+[3,4] : $\\alpha$$\\in$$\\mathbb{R}$, 0$\\leq$$\\alpha$$\\leq$1, con una precision de dos decimales (para la multiplicación)}"
   ]
  },
  {
   "cell_type": "code",
   "execution_count": 70,
   "metadata": {},
   "outputs": [
    {
     "data": {
      "text/plain": [
       "[[3.0, 4.0],\n",
       " [3.01, 4.02],\n",
       " [3.02, 4.04],\n",
       " [3.03, 4.06],\n",
       " [3.04, 4.08],\n",
       " [3.05, 4.1],\n",
       " [3.06, 4.12],\n",
       " [3.07, 4.14],\n",
       " [3.08, 4.16],\n",
       " [3.09, 4.18],\n",
       " [3.1, 4.2],\n",
       " [3.11, 4.22],\n",
       " [3.12, 4.24],\n",
       " [3.13, 4.26],\n",
       " [3.14, 4.28],\n",
       " [3.15, 4.3],\n",
       " [3.16, 4.32],\n",
       " [3.17, 4.34],\n",
       " [3.18, 4.36],\n",
       " [3.19, 4.38],\n",
       " [3.2, 4.4],\n",
       " [3.21, 4.42],\n",
       " [3.22, 4.44],\n",
       " [3.23, 4.46],\n",
       " [3.24, 4.48],\n",
       " [3.25, 4.5],\n",
       " [3.26, 4.52],\n",
       " [3.27, 4.54],\n",
       " [3.2800000000000002, 4.5600000000000005],\n",
       " [3.29, 4.58],\n",
       " [3.3, 4.6],\n",
       " [3.31, 4.62],\n",
       " [3.32, 4.64],\n",
       " [3.33, 4.66],\n",
       " [3.34, 4.68],\n",
       " [3.35, 4.7],\n",
       " [3.36, 4.72],\n",
       " [3.37, 4.74],\n",
       " [3.38, 4.76],\n",
       " [3.39, 4.78],\n",
       " [3.4, 4.8],\n",
       " [3.41, 4.82],\n",
       " [3.42, 4.84],\n",
       " [3.43, 4.86],\n",
       " [3.44, 4.88],\n",
       " [3.45, 4.9],\n",
       " [3.46, 4.92],\n",
       " [3.47, 4.94],\n",
       " [3.48, 4.96],\n",
       " [3.49, 4.98],\n",
       " [3.5, 5.0],\n",
       " [3.51, 5.02],\n",
       " [3.52, 5.04],\n",
       " [3.5300000000000002, 5.0600000000000005],\n",
       " [3.54, 5.08],\n",
       " [3.55, 5.1],\n",
       " [3.56, 5.12],\n",
       " [3.5700000000000003, 5.140000000000001],\n",
       " [3.58, 5.16],\n",
       " [3.59, 5.18],\n",
       " [3.6, 5.2],\n",
       " [3.61, 5.22],\n",
       " [3.62, 5.24],\n",
       " [3.63, 5.26],\n",
       " [3.64, 5.28],\n",
       " [3.65, 5.3],\n",
       " [3.66, 5.32],\n",
       " [3.67, 5.34],\n",
       " [3.68, 5.36],\n",
       " [3.69, 5.38],\n",
       " [3.7, 5.4],\n",
       " [3.71, 5.42],\n",
       " [3.7199999999999998, 5.4399999999999995],\n",
       " [3.73, 5.46],\n",
       " [3.74, 5.48],\n",
       " [3.75, 5.5],\n",
       " [3.76, 5.52],\n",
       " [3.77, 5.54],\n",
       " [3.7800000000000002, 5.5600000000000005],\n",
       " [3.79, 5.58],\n",
       " [3.8, 5.6],\n",
       " [3.81, 5.62],\n",
       " [3.8200000000000003, 5.640000000000001],\n",
       " [3.83, 5.66],\n",
       " [3.84, 5.68],\n",
       " [3.85, 5.7],\n",
       " [3.86, 5.72],\n",
       " [3.87, 5.74],\n",
       " [3.88, 5.76],\n",
       " [3.89, 5.78],\n",
       " [3.9, 5.8],\n",
       " [3.91, 5.82],\n",
       " [3.92, 5.84],\n",
       " [3.93, 5.86],\n",
       " [3.94, 5.88],\n",
       " [3.95, 5.9],\n",
       " [3.96, 5.92],\n",
       " [3.9699999999999998, 5.9399999999999995],\n",
       " [3.98, 5.96],\n",
       " [3.99, 5.98]]"
      ]
     },
     "execution_count": 70,
     "metadata": {},
     "output_type": "execute_result"
    }
   ],
   "source": [
    "import numpy as np\n",
    "\n",
    "def add(v,w):\n",
    "    return [v[0]+w[0],v[1]+w[1]]\n",
    "            \n",
    "def mult_vector_escalar(alpha,v):\n",
    "    return [alpha*v[i] for i in range(len(v))]\n",
    "\n",
    "resultado_lista=[]\n",
    "for alpha in np.arange(0,1,0.01):\n",
    "    resultado=(add(mult_vector_escalar(alpha,[1,2]),[3,4]))\n",
    "    resultado_lista.append(resultado)\n",
    "(resultado_lista)\n",
    "    \n"
   ]
  },
  {
   "cell_type": "markdown",
   "metadata": {},
   "source": [
    "## 3. El secreto perfecto\n",
    "\n",
    "Representa la encriptación de la adicción de un n-vector a un n-vector de GF(2)  \n",
    "\n",
    "<img src=\"Images/mortadelo-filemon.jpg\" style=\"width: 300px;\"/>\n",
    "\n",
    "Mortadelo y Filemón usan como clave el siguiente vector:  \n",
    "**k**=[0,1,0,0,1,0,1,0,1,0] \n",
    "\n",
    "Mortadelo quiere enviarle a Filemón el siguiente mensaje:  \n",
    "**p**=[0,0,0,1,1,1,0,1,0,1] \n",
    "\n",
    "Mortadelo encripta su mensaje añadiendo k: \n",
    "**c**=**p**+**k**=[0,0,0,1,1,1,0,1,0,1]+[0,1,0,0,1,0,1,0,1,0]=[0,1,0,1,0,1,1,1,1,1] \n",
    "\n",
    "Cuando Filemón recibe el mensaje, lo desencripta añadiendo **k** a lo que ha recibido \n",
    "**p**=**c**+**k**=[0,1,0,1,0,1,1,1,1,1]+[0,1,0,0,1,0,1,0,1,0]=[0,0,0,1,1,1,0,1,0,1]    \n",
    "\n",
    "que es el mensaje original.\n",
    "\n",
    "La idea es crear un procedimiento para que Filemón:\n",
    "* No tenga que hacer este proceso manualmente cada vez que Mortadelo le envíe un mensaje encriptado para descifrarlo\n",
    "* Si deciden cambiar la clave, que el procedimiento cambie mínimamente\n",
    "\n",
    "  \n"
   ]
  },
  {
   "cell_type": "code",
   "execution_count": 96,
   "metadata": {},
   "outputs": [],
   "source": [
    "#vector clave\n",
    "k=[0,1,0,0,1,0,1,0,1,0]\n",
    "#mensaje\n",
    "p=[0,0,0,1,1,1,0,1,0,1]"
   ]
  },
  {
   "cell_type": "code",
   "execution_count": 97,
   "metadata": {},
   "outputs": [
    {
     "data": {
      "text/plain": [
       "[3, 5, 8, 5]"
      ]
     },
     "execution_count": 97,
     "metadata": {},
     "output_type": "execute_result"
    }
   ],
   "source": [
    "#Definimos una operacion suma que nos de vectores de cualquier tamaño\n",
    "def addTamañoN(v,w):\n",
    "    resultado=[]\n",
    "    for i in range(len(v)):\n",
    "        suma=v[i]+w[i]\n",
    "        resultado.append(suma)\n",
    "    return resultado\n",
    "addTamañoN([1,2,4,0],[2,3,4,5])"
   ]
  },
  {
   "cell_type": "code",
   "execution_count": 98,
   "metadata": {},
   "outputs": [
    {
     "data": {
      "text/plain": [
       "[3, 5, 8, 5]"
      ]
     },
     "execution_count": 98,
     "metadata": {},
     "output_type": "execute_result"
    }
   ],
   "source": [
    "#También la podemos definir de la siguiente manera\n",
    "def addTamañoN2(v,w):\n",
    "    return [v[i]+w[i] for i in range(len(v))]\n",
    "addTamañoN2([1,2,4,0],[2,3,4,5])"
   ]
  },
  {
   "cell_type": "code",
   "execution_count": 99,
   "metadata": {},
   "outputs": [
    {
     "data": {
      "text/plain": [
       "[0, 1, 0, 1, 0, 1, 1, 1, 1, 1]"
      ]
     },
     "execution_count": 99,
     "metadata": {},
     "output_type": "execute_result"
    }
   ],
   "source": [
    "#Definimos una funcion por la cual mortadelo Encripta el mensaje\n",
    "def encriptacion(mensaje,clave):\n",
    "    vector_modulo_dos=[]\n",
    "    for i in addTamañoN2(mensaje,clave):\n",
    "        i=i%2\n",
    "        vector_modulo_dos.append(i)\n",
    "    return vector_modulo_dos\n",
    "\n",
    "encriptacion(p,k)  "
   ]
  },
  {
   "cell_type": "code",
   "execution_count": 105,
   "metadata": {},
   "outputs": [
    {
     "data": {
      "text/plain": [
       "[0, 0, 0, 1, 1, 1, 0, 1, 0, 1]"
      ]
     },
     "execution_count": 105,
     "metadata": {},
     "output_type": "execute_result"
    }
   ],
   "source": [
    "#Definimos una funcion por la cual Filemon desencripta el mensaje.\n",
    "#Es la misma función lo que pasa que en el mensaje se introducirá el mensaje encriptado en vez del original\n",
    "def desincriptacion(mensaje,clave):\n",
    "    vector_modulo_dos=[]\n",
    "    for i in addTamañoN2(mensaje,clave):\n",
    "        i=i%2\n",
    "        vector_modulo_dos.append(i)\n",
    "    return vector_modulo_dos\n",
    "    \n",
    "desincriptacion(encriptacion(p,k),k)"
   ]
  },
  {
   "cell_type": "code",
   "execution_count": 110,
   "metadata": {},
   "outputs": [
    {
     "name": "stdout",
     "output_type": "stream",
     "text": [
      " Filemon y mortadelo aprueban una clave k=[0,1,0,0,1,0,1,0,1,0]\n",
      "Mortadelo quiere enviar el siguiente mensaje p=[0,0,0,1,1,1,0,1,0,1]\n",
      "Mortadelo encripta su mensaje\n",
      "[0, 1, 0, 1, 0, 1, 1, 1, 1, 1]\n",
      "Filemon recibe su mensaje y lo desencripta\n",
      "[0, 0, 0, 1, 1, 1, 0, 1, 0, 1]\n",
      "Filemon optiene el mensaje original k=[0,1,0,0,1,0,1,0,1,0] \n",
      "Este procedimiento vale para dos vectores que tengan el mismo tamaño\n",
      "por ejemplo:\n",
      "vector clave k =[0,1,1,0]\n",
      "mensaje p = [1,1,1,1]\n",
      "Aplicamos el mismo metodo\n",
      " Filemon y mortadelo aprueban una clave k =[0,1,1,0]\n",
      "Mortadelo quiere enviar el siguiente mensaje p = [1,1,1,1]\n",
      "Mortadelo encripta su mensaje\n",
      "[1, 0, 0, 1]\n",
      "Filemon recibe su mensaje y lo desencripta\n",
      "[1, 1, 1, 1]\n",
      "Filemon optiene el mensaje originalk =[0,1,1,0] \n"
     ]
    }
   ],
   "source": [
    "#El resultado final sería una funcion que nos sirve tanto para encriptar como para desencriptar cualquier mensaje.\n",
    "\n",
    "def Encriptamiento_Desencriptamiento(mensaje,clave):\n",
    "    vector_modulo_dos=[]\n",
    "    for i in addTamañoN2(mensaje,clave):\n",
    "        i=i%2\n",
    "        vector_modulo_dos.append(i)\n",
    "    return vector_modulo_dos\n",
    "\n",
    "print(\" Filemon y mortadelo aprueban una clave k=[0,1,0,0,1,0,1,0,1,0]\")\n",
    "print(\"Mortadelo quiere enviar el siguiente mensaje p=[0,0,0,1,1,1,0,1,0,1]\")\n",
    "print(\"Mortadelo encripta su mensaje\")\n",
    "print(Encriptamiento_Desencriptamiento(p,k))\n",
    "print(\"Filemon recibe su mensaje y lo desencripta\")\n",
    "print(Encriptamiento_Desencriptamiento(Encriptamiento_Desencriptamiento(p,k),k))\n",
    "print(\"Filemon optiene el mensaje original k=[0,1,0,0,1,0,1,0,1,0] \")\n",
    "\n",
    "print(\"Este procedimiento vale para dos vectores que tengan el mismo tamaño\\npor ejemplo:\")\n",
    "print(\"vector clave k =[0,1,1,0]\")\n",
    "print(\"mensaje p = [1,1,1,1]\")\n",
    "\n",
    "print(\"Aplicamos el mismo metodo\")\n",
    "p=[1,1,1,1]\n",
    "k=[0,1,1,0]\n",
    "\n",
    "print(\" Filemon y mortadelo aprueban una clave k =[0,1,1,0]\")\n",
    "print(\"Mortadelo quiere enviar el siguiente mensaje p = [1,1,1,1]\")\n",
    "print(\"Mortadelo encripta su mensaje\")\n",
    "print(Encriptamiento_Desencriptamiento(p,k))\n",
    "print(\"Filemon recibe su mensaje y lo desencripta\")\n",
    "print(Encriptamiento_Desencriptamiento(Encriptamiento_Desencriptamiento(p,k),k))\n",
    "print(\"Filemon optiene el mensaje original k =[0,1,1,0] \")"
   ]
  },
  {
   "cell_type": "markdown",
   "metadata": {},
   "source": [
    "## 4. ¿Cuánto cuesta hacer una cerveza?\n",
    "\n",
    "<img src=\"Images/cerveza.jpg\" style=\"width: 300px;\"/>\n",
    "\n",
    "Supongamos que D es el conjunto de algunos ingredientes de la cerveza: \n",
    "> D={lúpulo, malta, agua, levadura} \n",
    "\n",
    "Por otro lado tenemos el vector coste:\n",
    "> coste={lúpulo: 2,5€, malta: 1.5€, agua: 0.006€, levadura: 0,45€}  \n",
    "\n",
    "Por último tenemos el vector cantidad con lo necesario para hacer una cerveza:\n",
    "> cantidad={lúpulo: 6u, malta: 14u, agua: 7u, levadura: 11u} \n",
    "\n",
    "¿Cuánto cuesta hacer una cerveza?"
   ]
  },
  {
   "cell_type": "code",
   "execution_count": 126,
   "metadata": {},
   "outputs": [],
   "source": [
    "#Creamos un conjuntos para los ingredientes\n",
    "Ingredientes={\"lupulo\",\"malta\",\"agua\",\"levadura\"}\n",
    "#Creamos un conjunto (en este caso diccionario) con el coste de la fabricación\n",
    "Coste={\"lupulo\":2.5,\"malta\":1.5,\"agua\":0.006,\"levadura\":0.45}\n",
    "#Creamos el vector cantidad con lo que se necesita para hacer una cerveza\n",
    "Cantidad={\"lupulo\":6,\"malta\":14,\"agua\":7,\"levadura\":11}\n",
    "\n",
    "\n",
    "#Contamos con 3 conjuntos que están relacionados, vamos a implementar un procedimiento para el cálculo del coste de hacer una cerveza\n"
   ]
  },
  {
   "cell_type": "code",
   "execution_count": 147,
   "metadata": {},
   "outputs": [
    {
     "name": "stdout",
     "output_type": "stream",
     "text": [
      "La cerveza cuesta en total 40 € aproximadamente\n"
     ]
    }
   ],
   "source": [
    "def CosteCerveza(ingredientes,cantidades,coste):\n",
    "    CosteTotal=[]\n",
    "    contador=0\n",
    "    preciofinal=0\n",
    "    for ingrediente in ingredientes:\n",
    "        CosteTotal.append(coste[ingrediente]*cantidades[ingrediente])\n",
    "    while contador < len(CosteTotal):\n",
    "        preciofinal+=CosteTotal[contador]\n",
    "        contador+=1\n",
    "    return int(preciofinal) #Podemos quitarle el int para que lo de exacto\n",
    "print(\"La cerveza cuesta en total\",CosteCerveza(Ingredientes,Cantidad,Coste),\"€ aproximadamente\")\n"
   ]
  },
  {
   "cell_type": "code",
   "execution_count": 148,
   "metadata": {},
   "outputs": [
    {
     "name": "stdout",
     "output_type": "stream",
     "text": [
      "La cerveza cuesta en total 40.992000000000004 €\n"
     ]
    }
   ],
   "source": [
    "def CosteCerveza(ingredientes,cantidades,coste):\n",
    "    CosteTotal=[]\n",
    "    contador=0\n",
    "    preciofinal=0\n",
    "    for ingrediente in ingredientes:\n",
    "        CosteTotal.append(coste[ingrediente]*cantidades[ingrediente])\n",
    "    while contador < len(CosteTotal):\n",
    "        preciofinal+=CosteTotal[contador]\n",
    "        contador+=1\n",
    "    return preciofinal \n",
    "print(\"La cerveza cuesta en total\",CosteCerveza(Ingredientes,Cantidad,Coste),\"€\")\n"
   ]
  },
  {
   "cell_type": "markdown",
   "metadata": {},
   "source": [
    "## 5. La carrera de caballos\n",
    "\n",
    "Tres caballos A, B y C compiten en una carrera.  \n",
    "Las apuestas para dar como vencedor a cada uno de ellos son de 4 a 1 para A, 3 a 1 para B y 2 a 1 para C, tomando las unidades siempre en euros.  \n",
    "¿Cuánto debo apostar por cada caballo para asegurarme recibir 13 euros en toal, sin importar qué csaballo gane la carrera?"
   ]
  },
  {
   "cell_type": "markdown",
   "metadata": {},
   "source": [
    "Sean x,y,z el dinero apostado por los caballos A, B y C respectivamente.\n",
    "El objetivo del problema escalcular la cantidad que debe apostarse por cada caballo de forma que la suma del dinero recibido y perdido en ñas apuestas sea siempre igual a 13€.  \n",
    "Así, podemos plantear un sistema de tres ecuaciones con tres incógnitas, en el que igualaremos matemáticamente la cantidad percibida por la victoria de los caballos A, B, C y, al mismo tiempo, señalaremos que esta cantidad corresponde a 13€.  \n",
    "\n",
    "> 4x-y-z=3y-x-z  \n",
    "> 3y-x-z=2z-x-y  \n",
    "> 2z-x-y=13\n"
   ]
  },
  {
   "cell_type": "code",
   "execution_count": 163,
   "metadata": {},
   "outputs": [
    {
     "name": "stdout",
     "output_type": "stream",
     "text": [
      "Tenemos que apostar 12 € en el caballo A, 15 € en el caballo B y 20 € en el caballo C\n"
     ]
    }
   ],
   "source": [
    "import sympy as sp\n",
    "\n",
    "#Definimos las variables a utilizar\n",
    "x =sp.Symbol('x')\n",
    "y=sp.Symbol('y')\n",
    "z=sp.Symbol('z')\n",
    "\n",
    "\n",
    "#El sistema que plantearemos será el siguiente:\n",
    "#Si apostamos y gana el caballo A ganaremos 4 veces nuestro dinero menos el dinero apostado a los demás caballos.\n",
    "#4x-y-z\n",
    "#Si apostamos y gana el caballo B ganaremos 3 veces nuestro dinero menos el dinero apostado a los demás caballos\n",
    "#3y-x-z\n",
    "#Si apostamos y gana el caballo C ganaremos 2 veces nuestro dinero menos el dinero apostado a los demás caballos\n",
    "#2z-y-z\n",
    "#Como queremos que la suma del dinero recibido menos lo pagado sea 13 el sistema ha plantear será el siguiente\n",
    "# 4x-y-z-13=0\n",
    "# 3y-x-z-13=0\n",
    "# 2z-y-x-13=0\n",
    "#Lo resolvemos\n",
    "\n",
    "resultado=sp.solve([4*x-y-z-13,3*y-x-z-13,2*z-x-y-13],[x,y,z])\n",
    "print(\"Tenemos que apostar\",resultado[x],\"€ en el caballo A,\",resultado[y],\"€ en el caballo B y\",resultado[z],\"€ en el caballo C\")\n"
   ]
  },
  {
   "cell_type": "markdown",
   "metadata": {},
   "source": [
    "## 6. Dimensión de matrices\n",
    "\n",
    "Sea la matriz $\n",
    "  M=\n",
    "  \\left[ {\\begin{array}{cc}\n",
    "   1 & 0  & 0 & 5 \\\\\n",
    "   0 & 2  & 0 & 7 \\\\\n",
    "   0 & 0  & 3 & 9 \\\\\n",
    "  \\end{array} } \\right]\n",
    "$. Calcular el rango por filas y por columnas usando Python."
   ]
  },
  {
   "cell_type": "code",
   "execution_count": 167,
   "metadata": {},
   "outputs": [
    {
     "data": {
      "text/plain": [
       "3"
      ]
     },
     "execution_count": 167,
     "metadata": {},
     "output_type": "execute_result"
    }
   ],
   "source": [
    "import numpy as np\n",
    "A=np.matrix([\n",
    "    [1,0,0,5],\n",
    "    [0,2,0,7],\n",
    "    [0,0,3,9]\n",
    "])\n",
    "#Calculamos el rango por filas\n",
    "rangoAFilas=np.linalg.matrix_rank(A)\n",
    "rangoAFilas"
   ]
  },
  {
   "cell_type": "code",
   "execution_count": 168,
   "metadata": {},
   "outputs": [
    {
     "data": {
      "text/plain": [
       "3"
      ]
     },
     "execution_count": 168,
     "metadata": {},
     "output_type": "execute_result"
    }
   ],
   "source": [
    "#Para eso hacemos la transpuesta\n",
    "ATranspuesta=np.transpose(A)\n",
    "rangoAColumnas=np.linalg.matrix_rank(ATranspuesta)\n",
    "rangoAColumnas\n",
    "#El rango tiene que coincidir por lo tanto es correcto.Como es una matriz de cuatro vectores \n",
    "#Esto significa que hay un vector que es linealmente dependiente a los demas"
   ]
  },
  {
   "cell_type": "markdown",
   "metadata": {},
   "source": [
    "## 7. Bosque de extensión mínima\n",
    "\n",
    "<img src=\"Images/bosque.png\" style=\"width: 800px;\"/>\n",
    "\n",
    "En clase hemos hecho el caso del grafo de la derecha. Le toca el turno al de la izquierda.\n",
    "Supongamos que queremos diseñar la red de internet para el otro campus universitario.  \n",
    "La red debe lograr la misma conectividad que el grafo de entrada.  \n",
    "Una arista representa un posible cable.  \n",
    "El peso de la arista es el coste de instalar el cable.  \n",
    "Nuestro objetivo es minimizar el coste total, usando el algoritmo Grow y el algoritmo Shrink.\n",
    "Lo único que en este caso se pide crear un procedimiento para el algoritmo Grow y otro para el Shrink que lo hagan automáticamente una vez les metamos como parámetros las aristas y sus pesos"
   ]
  },
  {
   "cell_type": "code",
   "execution_count": 193,
   "metadata": {},
   "outputs": [],
   "source": [
    "# Antes de meternos con el algoritmo en sí, definamos algunas funciones de utilidad\n",
    "\n",
    "# ------------------------------------------------------------------------------------------\n",
    "# Fn_Get_PesoMax: Funcion para obtener el peso max de un grafo\n",
    "# ------------------------------------------------------------------------------------------\n",
    "def Fn_Get_PesoMax(grafo):\n",
    "    peso = 0\n",
    "    for v in grafo:\n",
    "        if peso<v[1]:\n",
    "            peso = v[1]\n",
    "    return peso\n",
    "\n",
    "# ------------------------------------------------------------------------------------------\n",
    "# Fn_Get_SumPeso: Funcion para obtener el sumatorio de pesos de un grafo\n",
    "# ------------------------------------------------------------------------------------------\n",
    "def Fn_Get_SumPeso(grafo):\n",
    "    suma = 0\n",
    "    for i in grafo:\n",
    "        suma = suma + i[1]\n",
    "    return suma\n",
    "\n",
    "# ------------------------------------------------------------------------------------------\n",
    "# Fn_Get_PesoMin: Funcion para obtener el peso min de un grafo\n",
    "# ------------------------------------------------------------------------------------------\n",
    "def Fn_Get_PesoMin(grafo):\n",
    "    if len(grafo) == 0:\n",
    "        return 0\n",
    "    else:\n",
    "        peso = Fn_Get_SumPeso(grafo)\n",
    "        for v in grafo:\n",
    "            if peso > v[1]:\n",
    "                peso = v[1]\n",
    "        return peso\n",
    "\n",
    "# ------------------------------------------------------------------------------------------\n",
    "# Fn_Get_Pesos: Funcion para obtener la lista de pesos de un grafo\n",
    "# ------------------------------------------------------------------------------------------\n",
    "def Fn_Get_Pesos(grafo, mayor=True):\n",
    "    l = []\n",
    "    for i in grafo:\n",
    "        l.append(i[1])\n",
    "    l.sort(reverse=mayor)\n",
    "    return l\n",
    "\n",
    "# ------------------------------------------------------------------------------------------\n",
    "# Fn_Get_Nodos: Funcion para obtener los nodos que componen un grado\n",
    "# ------------------------------------------------------------------------------------------\n",
    "def Fn_Get_Nodos(grafo):\n",
    "    nodos = set()\n",
    "    for i in grafo:\n",
    "        for e in i[0]:\n",
    "            nodos.add(e)    \n",
    "    return nodos\n",
    "\n",
    "# ------------------------------------------------------------------------------------------\n",
    "# Fn_Get_NodConect: Funcion para obtener los nodos que conectan\n",
    "# ------------------------------------------------------------------------------------------\n",
    "def Fn_Get_NodConect (grafoOriginal, nodo):\n",
    "    nodos = set()\n",
    "    \n",
    "    for v in grafoOriginal:\n",
    "        if nodo in v[0]:\n",
    "            nodos = nodos | (v[0])\n",
    "    nodos = nodos - {nodo}\n",
    "    return nodos\n",
    "\n",
    "# ------------------------------------------------------------------------------------------\n",
    "# Fn_Eliminar_Nodo : Funcion para elimina un nodo de un grafo dado\n",
    "# ------------------------------------------------------------------------------------------\n",
    "def Fn_Eliminar_Nodo (grafo, nodo):\n",
    "    grafoCopia = grafo.copy()\n",
    "    for v in grafo:\n",
    "        if nodo in v[0]:\n",
    "            grafoCopia.remove(v)\n",
    "    return grafoCopia\n",
    "\n",
    "# ------------------------------------------------------------------------------------------\n",
    "# Fn_Check_Camino : Funcion para elimina un nodo de un grafo dado\n",
    "# ------------------------------------------------------------------------------------------\n",
    "def Fn_Check_Camino(grafoOriginal, nodoA, nodoB):\n",
    "    grafo = grafoOriginal.copy()\n",
    "    # print(\"Probando Fn_Check_Camino entre \", nodoA, nodoB)\n",
    "    \n",
    "    #vemos si hay un Fn_Check_Camino directo\n",
    "    directo = False\n",
    "    for v in grafo:\n",
    "        # print(v[0])\n",
    "        if (nodoA in v[0]) and (nodoB in v[0]):\n",
    "            # print(nodoA,nodoB, \"Directo\")\n",
    "            return True\n",
    "    \n",
    "    nodosParaBuscar = Fn_Get_NodConect(grafo, nodoA)\n",
    "    # quitar los vertices que unen nodoA con nodosParaBuscar\n",
    "    nuevoGrafo = Fn_Eliminar_Nodo(grafo, nodoA)\n",
    "    \n",
    "    for e in nodosParaBuscar:\n",
    "        if Fn_Check_Camino(nuevoGrafo,e,nodoB): return True\n",
    "        \n",
    "# ------------------------------------------------------------------------------------------\n",
    "# Fn_Get_Vertices : Funcion que devuelve los vertines entre un nodo y una lista de nodos o grafo\n",
    "# ------------------------------------------------------------------------------------------\n",
    "def Fn_Get_Vertices(grafo, nodoInicial, listaDeNodos):\n",
    "    l = []\n",
    "    for i in grafo:\n",
    "        nodos = i[0].copy()\n",
    "        unNodo = nodos.pop()\n",
    "        otroNodo = nodos.pop()\n",
    "        if (unNodo == nodoInicial and otroNodo in listaDeNodos) or (otroNodo \n",
    "                                                                    == nodoInicial and unNodo in listaDeNodos):\n",
    "            l.append(i)\n",
    "    return l\n",
    "            "
   ]
  },
  {
   "cell_type": "code",
   "execution_count": 194,
   "metadata": {},
   "outputs": [],
   "source": [
    "#Algoritmo de Grow\n",
    "def Algorithm_Grow(grafo):\n",
    "    #empezamos con un grafo vacio\n",
    "    bosque = []\n",
    "    gr = grafo.copy()\n",
    "    nodosDeseados = Fn_Get_Nodos(gr)\n",
    "    \n",
    "    # añadimos el vertice mas pequeño\n",
    "    minimo = Fn_Get_PesoMin(gr)\n",
    "    for i in range(0,len(gr)):\n",
    "        if gr[i][1] == minimo:\n",
    "            nuevoVertice = gr.pop(i)\n",
    "            break\n",
    "    bosque.append(nuevoVertice)\n",
    "    \n",
    "    nodosEnBosque=Fn_Get_Nodos(bosque)\n",
    "    \n",
    "    #que nodos quedan por añadir al bosque\n",
    "    nodosQueQuedan = nodosDeseados - nodosEnBosque\n",
    "     \n",
    "    while nodosQueQuedan:\n",
    "        # elegir el nodo que menos peso tiene para llegar al bosque\n",
    "        distancia = Fn_Get_PesoMax(gr)\n",
    "        \n",
    "        #sacar cual es la distancia minima entre los nodos que quedan y el arbol\n",
    "        for nodo in nodosQueQuedan:\n",
    "            # recorrer el arbol\n",
    "            for v in gr:\n",
    "                if nodo in v[0]:\n",
    "                    vertice = v[0].copy()\n",
    "                    unNodo = vertice.pop()\n",
    "                    otroNodo = vertice.pop()\n",
    "                    if nodo == otroNodo:\n",
    "                        nodoBuscado = otroNodo\n",
    "                    else:\n",
    "                        nodoBuscado = unNodo\n",
    "                    if nodoBuscado in nodosQueQuedan:\n",
    "                        if v[1] <= distancia:\n",
    "                            distancia = v[1]\n",
    "                            nodoNuevo = nodoBuscado\n",
    "                    \n",
    "        \n",
    "        # cuando termina el bucle tenemos el nodo que tenemos que añadir en nodoNuevo\n",
    "         \n",
    "        # busco entre todos los vertices los que unan el nodo buscado con los nodos que tengo\n",
    "        listaVertices = Fn_Get_Vertices(gr, nodoNuevo, nodosEnBosque)\n",
    "\n",
    "        # Y cojo el menor\n",
    "        minimo = Fn_Get_PesoMin(listaVertices)\n",
    "        for i in range(0,len(listaVertices)):\n",
    "            if listaVertices[i][1] == minimo:\n",
    "                nuevoVertice = listaVertices.pop(i)\n",
    "                break\n",
    "        bosque.append(nuevoVertice)\n",
    "\n",
    "        nodosEnBosque=Fn_Get_Nodos(bosque)\n",
    "        nodosQueQuedan = nodosDeseados - nodosEnBosque\n",
    "            \n",
    "    return bosque"
   ]
  },
  {
   "cell_type": "code",
   "execution_count": 196,
   "metadata": {},
   "outputs": [
    {
     "data": {
      "text/plain": [
       "[({'BioMed', 'Pembroke Campus'}, 2),\n",
       " ({'Athletic Complex', 'Pembroke Campus'}, 7)]"
      ]
     },
     "execution_count": 196,
     "metadata": {},
     "output_type": "execute_result"
    }
   ],
   "source": [
    "grafo=[({\"Pembroke Campus\",\"Athletic Complex\"},7),({\"Pembroke Campus\",\"BioMed\"},2),({\"BioMed\",\"Athletic Complex\"},7)]\n",
    "Algorithm_Grow(grafo)"
   ]
  },
  {
   "cell_type": "code",
   "execution_count": 197,
   "metadata": {},
   "outputs": [],
   "source": [
    "## ------------------------------------------------------------------------------------------\n",
    "# Algoritmo Shrink\n",
    "# ------------------------------------------------------------------------------------------\n",
    "# 1.Empezamos con el grafo completo\n",
    "# 2.Buscamos el vertice con mas peso\n",
    "# 3.Quitamos ese vertice\n",
    "# 4.Miramos a ver si hemos dejado algun nodo sin conectar o si hemos generado dos islas (es decir que todos los nodos del grafo tienen que seguir conectados entre ellos\n",
    "# 5.Si se da alguno de estos casos volvemos a añadir el vertice quitado\n",
    "# 6.Iteramos con el siguinte vertice (hasta que no nos queden vertices)\n",
    "\n",
    "   \n",
    "def Algorithm_Shrink(grafo):\n",
    "    bosque = grafo.copy()\n",
    "    \n",
    "    nodosDeseados = Fn_Get_Nodos(grafo)\n",
    "    nodosBosque = Fn_Get_Nodos(bosque)\n",
    "    pesos = Fn_Get_Pesos(grafo)\n",
    "    \n",
    "    while pesos:\n",
    "        pesoBuscado = pesos[0] \n",
    "                \n",
    "        # Buscamos vertice\n",
    "        for i in range(0, len(bosque)):\n",
    "            if bosque[i][1] == pesoBuscado:\n",
    "                nuevoVertice = bosque.pop(i) # quitamos el vertice\n",
    "                pesos.remove(pesoBuscado) # dejamos de buscar ese peso\n",
    "                break\n",
    "        \n",
    "        # comprobamos que el bosque sigue teniendo Fn_Check_Camino entre todos los nodos\n",
    "        nodosEnBosque = Fn_Get_Nodos(bosque)\n",
    "        \n",
    "        conectados = True\n",
    "        \n",
    "        for n1 in nodosEnBosque:\n",
    "            esteNodo = set()\n",
    "            esteNodo.add(n1)\n",
    "            otrosNodos = nodosEnBosque - esteNodo\n",
    "            \n",
    "            for n2 in otrosNodos:\n",
    "                \n",
    "                conectados = conectados and Fn_Check_Camino(bosque, n1, n2)\n",
    "                if not conectados: \n",
    "                    break\n",
    "        \n",
    "        if Fn_Get_Nodos(bosque) != nodosDeseados:\n",
    "            bosque.append(nuevoVertice)\n",
    "        elif not conectados:\n",
    "            bosque.append(nuevoVertice)\n",
    "    return(bosque)"
   ]
  },
  {
   "cell_type": "code",
   "execution_count": 198,
   "metadata": {},
   "outputs": [
    {
     "data": {
      "text/plain": [
       "[({'Athletic Complex', 'BioMed'}, 7), ({'BioMed', 'Pembroke Campus'}, 2)]"
      ]
     },
     "execution_count": 198,
     "metadata": {},
     "output_type": "execute_result"
    }
   ],
   "source": [
    "Algorithm_Shrink(grafo)"
   ]
  }
 ],
 "metadata": {
  "kernelspec": {
   "display_name": "Python 3",
   "language": "python",
   "name": "python3"
  },
  "language_info": {
   "codemirror_mode": {
    "name": "ipython",
    "version": 3
   },
   "file_extension": ".py",
   "mimetype": "text/x-python",
   "name": "python",
   "nbconvert_exporter": "python",
   "pygments_lexer": "ipython3",
   "version": "3.7.3"
  }
 },
 "nbformat": 4,
 "nbformat_minor": 2
}
